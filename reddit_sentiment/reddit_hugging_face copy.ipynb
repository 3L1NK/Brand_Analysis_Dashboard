{
 "cells": [
  {
   "cell_type": "code",
   "execution_count": 1,
   "metadata": {},
   "outputs": [],
   "source": [
    "#!pip install praw transformers torch\n",
    "import praw\n",
    "import pandas as pd\n",
    "import numpy as np\n",
    "from transformers import pipeline, AutoTokenizer, AutoModelForSequenceClassification\n",
    "import matplotlib.pyplot as plt\n",
    "import seaborn as sns\n",
    "import re"
   ]
  },
  {
   "cell_type": "code",
   "execution_count": 2,
   "metadata": {},
   "outputs": [],
   "source": [
    "user_agent = \"Brand sentiment analysis\"\n",
    "reddit = praw.Reddit(\n",
    "  client_id=\"ujQpmAa-rxhI6tgE246E4w\",\n",
    "  client_secret=\"BnhybdI_fallhH64Us6vutIfsXP21Q\",\n",
    "  user_agent=user_agent\n",
    ")"
   ]
  },
  {
   "cell_type": "code",
   "execution_count": 3,
   "metadata": {},
   "outputs": [],
   "source": [
    "def fetch_reddit_posts(subreddit, query, limit=100):\n",
    "    subreddit = reddit.subreddit(subreddit)\n",
    "    posts = []\n",
    "    for post in subreddit.search(query, limit=limit):\n",
    "        if post.selftext and len(post.selftext.split()) > 6 and len(post.selftext.split()) <= 512:  # This checks if the body (selftext) is not empty\n",
    "          posts.append([post.created_utc, post.title, post.selftext])\n",
    "    df = pd.DataFrame(posts, columns=[\"Date\", \"Title\", \"Body\"])\n",
    "    df['Date'] = pd.to_datetime(df['Date'], unit='s')\n",
    "    return df\n"
   ]
  },
  {
   "cell_type": "code",
   "execution_count": 5,
   "metadata": {},
   "outputs": [],
   "source": [
    "df_neutrogena = fetch_reddit_posts('all', 'Neutrogena', 100)\n",
    "# df_gemini = fetch_reddit_posts('all', 'Gemini AI', 100)\n",
    "# df_copilot = fetch_reddit_posts('all', 'Copilot AI', 100)"
   ]
  },
  {
   "cell_type": "code",
   "execution_count": 6,
   "metadata": {},
   "outputs": [],
   "source": [
    "def clean_text(text):\n",
    "  text = re.sub(r'[^\\x00-\\x7F]+', ' ', text)\n",
    "  text = re.sub(r'\\s+', ' ', text)\n",
    "  text = re.sub(r'http\\S+', '', text)\n",
    "  text = re.sub(r'[^\\w\\s]', '', text)\n",
    "  return text.lower()\n",
    "\n",
    "df_neutrogena['Body'] = df_neutrogena['Body'].apply(clean_text)\n",
    "df_neutrogena['Title'] = df_neutrogena['Title'].apply(clean_text)\n",
    "\n",
    "# df_chatgpt['Body'] = df_chatgpt['Body'].apply(clean_text)\n",
    "# df_gemini['Body'] = df_gemini['Body'].apply(clean_text)\n",
    "# df_copilot['Body'] = df_copilot['Body'].apply(clean_text)\n",
    "# df_chatgpt['Title'] = df_chatgpt['Title'].apply(clean_text)\n",
    "# df_gemini['Title'] = df_gemini['Title'].apply(clean_text)\n",
    "# df_copilot['Title'] = df_copilot['Title'].apply(clean_text)"
   ]
  },
  {
   "cell_type": "code",
   "execution_count": 8,
   "metadata": {},
   "outputs": [
    {
     "data": {
      "text/html": [
       "<div>\n",
       "<style scoped>\n",
       "    .dataframe tbody tr th:only-of-type {\n",
       "        vertical-align: middle;\n",
       "    }\n",
       "\n",
       "    .dataframe tbody tr th {\n",
       "        vertical-align: top;\n",
       "    }\n",
       "\n",
       "    .dataframe thead th {\n",
       "        text-align: right;\n",
       "    }\n",
       "</style>\n",
       "<table border=\"1\" class=\"dataframe\">\n",
       "  <thead>\n",
       "    <tr style=\"text-align: right;\">\n",
       "      <th></th>\n",
       "      <th>Date</th>\n",
       "      <th>Title</th>\n",
       "      <th>Body</th>\n",
       "    </tr>\n",
       "  </thead>\n",
       "  <tbody>\n",
       "    <tr>\n",
       "      <th>0</th>\n",
       "      <td>2021-08-08 00:28:19</td>\n",
       "      <td>misc your thoughts on neutrogena</td>\n",
       "      <td>can i just say that i think neutrogena is the ...</td>\n",
       "    </tr>\n",
       "    <tr>\n",
       "      <th>1</th>\n",
       "      <td>2024-01-19 15:57:01</td>\n",
       "      <td>product question thoughts on the neutrogena hy...</td>\n",
       "      <td>i just bought this for the sole purpose of usi...</td>\n",
       "    </tr>\n",
       "    <tr>\n",
       "      <th>2</th>\n",
       "      <td>2023-10-16 17:00:55</td>\n",
       "      <td>neutrogena spf 50 is now pa finally</td>\n",
       "      <td>has neutrogena revamped their sunscreen to pa ...</td>\n",
       "    </tr>\n",
       "    <tr>\n",
       "      <th>3</th>\n",
       "      <td>2023-09-24 03:28:36</td>\n",
       "      <td>product question what s up with neutrogena hyd...</td>\n",
       "      <td>a few months ago i picked up a 2pack of neutro...</td>\n",
       "    </tr>\n",
       "    <tr>\n",
       "      <th>4</th>\n",
       "      <td>2024-01-23 03:13:25</td>\n",
       "      <td>hate the new neutrogena ultra sheer sunscreen ...</td>\n",
       "      <td>i have been using the old neutrogena ultra she...</td>\n",
       "    </tr>\n",
       "  </tbody>\n",
       "</table>\n",
       "</div>"
      ],
      "text/plain": [
       "                 Date                                              Title  \\\n",
       "0 2021-08-08 00:28:19                   misc your thoughts on neutrogena   \n",
       "1 2024-01-19 15:57:01  product question thoughts on the neutrogena hy...   \n",
       "2 2023-10-16 17:00:55                neutrogena spf 50 is now pa finally   \n",
       "3 2023-09-24 03:28:36  product question what s up with neutrogena hyd...   \n",
       "4 2024-01-23 03:13:25  hate the new neutrogena ultra sheer sunscreen ...   \n",
       "\n",
       "                                                Body  \n",
       "0  can i just say that i think neutrogena is the ...  \n",
       "1  i just bought this for the sole purpose of usi...  \n",
       "2  has neutrogena revamped their sunscreen to pa ...  \n",
       "3  a few months ago i picked up a 2pack of neutro...  \n",
       "4  i have been using the old neutrogena ultra she...  "
      ]
     },
     "execution_count": 8,
     "metadata": {},
     "output_type": "execute_result"
    }
   ],
   "source": [
    "df_neutrogena.head()"
   ]
  },
  {
   "cell_type": "code",
   "execution_count": 11,
   "metadata": {},
   "outputs": [],
   "source": [
    "df_neutrogena['source'] = 'Reddit'\n",
    "df_neutrogena['language'] = 'English'"
   ]
  },
  {
   "cell_type": "code",
   "execution_count": 13,
   "metadata": {},
   "outputs": [],
   "source": [
    "df_neutrogena.to_csv('neutrogena_reddit_output1.csv')"
   ]
  }
 ],
 "metadata": {
  "kernelspec": {
   "display_name": "base",
   "language": "python",
   "name": "python3"
  },
  "language_info": {
   "codemirror_mode": {
    "name": "ipython",
    "version": 3
   },
   "file_extension": ".py",
   "mimetype": "text/x-python",
   "name": "python",
   "nbconvert_exporter": "python",
   "pygments_lexer": "ipython3",
   "version": "3.9.18"
  }
 },
 "nbformat": 4,
 "nbformat_minor": 2
}
